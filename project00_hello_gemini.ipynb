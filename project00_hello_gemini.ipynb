{
  "nbformat": 4,
  "nbformat_minor": 0,
  "metadata": {
    "colab": {
      "provenance": [],
      "authorship_tag": "ABX9TyONEYpP4nPuwcrh7RkA7aek",
      "include_colab_link": true
    },
    "kernelspec": {
      "name": "python3",
      "display_name": "Python 3"
    },
    "language_info": {
      "name": "python"
    }
  },
  "cells": [
    {
      "cell_type": "markdown",
      "metadata": {
        "id": "view-in-github",
        "colab_type": "text"
      },
      "source": [
        "<a href=\"https://colab.research.google.com/github/Furqan-Nizamani/hello_gemini/blob/main/project00_hello_gemini.ipynb\" target=\"_parent\"><img src=\"https://colab.research.google.com/assets/colab-badge.svg\" alt=\"Open In Colab\"/></a>"
      ]
    },
    {
      "cell_type": "code",
      "source": [
        "%pip install -q -U langchain langchain-google-genai"
      ],
      "metadata": {
        "colab": {
          "base_uri": "https://localhost:8080/"
        },
        "collapsed": true,
        "id": "RdMU3SZBsyCA",
        "outputId": "cd4f3961-2928-4b75-e1d3-5b36cbfe6eb9"
      },
      "execution_count": 1,
      "outputs": [
        {
          "output_type": "stream",
          "name": "stdout",
          "text": [
            "\u001b[?25l   \u001b[90m━━━━━━━━━━━━━━━━━━━━━━━━━━━━━━━━━━━━━━━━\u001b[0m \u001b[32m0.0/1.0 MB\u001b[0m \u001b[31m?\u001b[0m eta \u001b[36m-:--:--\u001b[0m\r\u001b[2K   \u001b[91m━━━━━━━\u001b[0m\u001b[90m╺\u001b[0m\u001b[90m━━━━━━━━━━━━━━━━━━━━━━━━━━━━━━━━\u001b[0m \u001b[32m0.2/1.0 MB\u001b[0m \u001b[31m5.2 MB/s\u001b[0m eta \u001b[36m0:00:01\u001b[0m\r\u001b[2K   \u001b[91m━━━━━━━━━━━━━━━━━━━━━━━━━━━━━━━━━━━━━━━\u001b[0m\u001b[91m╸\u001b[0m \u001b[32m1.0/1.0 MB\u001b[0m \u001b[31m13.7 MB/s\u001b[0m eta \u001b[36m0:00:01\u001b[0m\r\u001b[2K   \u001b[90m━━━━━━━━━━━━━━━━━━━━━━━━━━━━━━━━━━━━━━━━\u001b[0m \u001b[32m1.0/1.0 MB\u001b[0m \u001b[31m10.0 MB/s\u001b[0m eta \u001b[36m0:00:00\u001b[0m\n",
            "\u001b[2K   \u001b[90m━━━━━━━━━━━━━━━━━━━━━━━━━━━━━━━━━━━━━━━━\u001b[0m \u001b[32m41.3/41.3 kB\u001b[0m \u001b[31m1.4 MB/s\u001b[0m eta \u001b[36m0:00:00\u001b[0m\n",
            "\u001b[2K   \u001b[90m━━━━━━━━━━━━━━━━━━━━━━━━━━━━━━━━━━━━━━━━\u001b[0m \u001b[32m411.6/411.6 kB\u001b[0m \u001b[31m10.6 MB/s\u001b[0m eta \u001b[36m0:00:00\u001b[0m\n",
            "\u001b[?25h"
          ]
        }
      ]
    },
    {
      "cell_type": "code",
      "source": [
        "import langchain_google_genai as genai\n",
        "from langchain_google_genai import ChatGoogleGenerativeAI\n",
        "from google.colab import userdata\n",
        "from IPython.display import Markdown"
      ],
      "metadata": {
        "id": "eQQaOh_fs-Zb"
      },
      "execution_count": 2,
      "outputs": []
    },
    {
      "cell_type": "code",
      "source": [
        "google_api_key = userdata.get(\"GOOGLE_API_KEY\")"
      ],
      "metadata": {
        "id": "NnSHU6Ouu1H7"
      },
      "execution_count": 3,
      "outputs": []
    },
    {
      "cell_type": "code",
      "source": [
        "llm: ChatGoogleGenerativeAI = ChatGoogleGenerativeAI(\n",
        "    model = \"gemini-1.5-flash\",\n",
        "    api_key=google_api_key\n",
        ")"
      ],
      "metadata": {
        "id": "Iu23sYdMvD8L"
      },
      "execution_count": 4,
      "outputs": []
    },
    {
      "cell_type": "code",
      "source": [
        "response = llm.invoke(f\"\"\" Explain Agentic Ai in 1000 words \"\"\")"
      ],
      "metadata": {
        "id": "0ofaQchyvz-Z"
      },
      "execution_count": 5,
      "outputs": []
    },
    {
      "cell_type": "code",
      "source": [
        "Markdown(response.content)"
      ],
      "metadata": {
        "colab": {
          "base_uri": "https://localhost:8080/",
          "height": 1000
        },
        "id": "TeuhByR4wtUa",
        "outputId": "4d249a47-58c1-46c2-c41f-97fb179b375d"
      },
      "execution_count": 6,
      "outputs": [
        {
          "output_type": "execute_result",
          "data": {
            "text/plain": [
              "<IPython.core.display.Markdown object>"
            ],
            "text/markdown": "## Agentic AI: Beyond Reactive and Proactive, Towards Autonomous Action\n\nArtificial intelligence (AI) has evolved dramatically, progressing from simple reactive systems to more sophisticated proactive ones.  However, the next frontier lies in developing *agentic* AI – systems capable of autonomous goal-directed behavior in complex, dynamic environments.  Agentic AI goes beyond simply reacting to stimuli or proactively anticipating events; it involves the ability to independently formulate goals, plan actions to achieve those goals, and adapt its strategies based on feedback and unforeseen circumstances.  This represents a significant leap in AI capabilities and raises profound ethical and societal considerations.\n\n**Distinguishing Agentic AI from its Predecessors:**\n\nTo understand agentic AI, it's crucial to contrast it with earlier generations of AI:\n\n* **Reactive AI:** This is the most basic form, reacting directly to immediate inputs without any memory of past experiences or planning for the future.  Deep Blue, IBM's chess-playing AI, is a prime example.  It evaluates the current board state and selects the best move based on pre-programmed rules and heuristics, without considering past moves or future scenarios.\n\n* **Proactive AI:** This type of AI can anticipate future events and plan accordingly, incorporating a limited form of memory and prediction.  Many modern AI assistants, like Siri or Alexa, exhibit proactive behavior by anticipating user needs based on past interactions or contextual information.  However, their proactive capabilities are largely confined to pre-defined scenarios and lack the flexibility and adaptability of truly agentic systems.\n\n* **Agentic AI:** Agentic AI transcends the limitations of reactive and proactive systems by possessing the following key characteristics:\n\n    * **Autonomy:**  It can operate independently, setting its own goals and choosing its actions without constant human intervention.  This autonomy extends to adapting to unforeseen circumstances and learning from its experiences.\n\n    * **Goal-Directedness:**  It actively pursues pre-defined or self-generated goals, exhibiting purposeful behavior rather than simply reacting to stimuli.  The goals can be complex and long-term, requiring sophisticated planning and execution.\n\n    * **Planning and Reasoning:**  Agentic AI systems employ advanced planning algorithms and reasoning capabilities to strategize and select actions that maximize the likelihood of achieving their goals. This includes anticipating potential obstacles and formulating contingency plans.\n\n    * **Learning and Adaptation:**  It continuously learns from its experiences, adjusting its strategies and behavior to improve its performance over time.  This learning can involve reinforcement learning, imitation learning, or other machine learning techniques.\n\n    * **Embodiment (Optional but advantageous):** While not strictly necessary, embodiment – interaction with the physical world through a robotic body – can significantly enhance an agent's ability to learn and adapt.  Physical interaction provides richer sensory feedback and allows for more direct manipulation of the environment.\n\n\n**Challenges in Developing Agentic AI:**\n\nBuilding truly agentic AI systems presents formidable challenges:\n\n* **Goal Specification and Representation:** Defining clear, measurable, and achievable goals for an AI agent is crucial.  This is particularly challenging for complex, open-ended tasks where the goals themselves might evolve over time.\n\n* **Planning and Decision-Making Under Uncertainty:** Real-world environments are inherently uncertain and unpredictable.  Agentic AI systems must be able to handle incomplete information, make robust decisions under uncertainty, and adapt to unforeseen events.\n\n* **Scalability and Generalization:**  Developing agents that can generalize their learned knowledge and skills to new, unseen situations is a major hurdle.  Current AI systems often struggle with transferring learned behaviors from one environment to another.\n\n* **Safety and Ethics:**  Autonomous agents capable of independent action raise significant ethical and safety concerns.  Ensuring that these systems act in a safe and responsible manner is paramount, requiring careful consideration of potential risks and the development of robust safety mechanisms.\n\n* **Explainability and Transparency:** Understanding the reasoning and decision-making processes of complex AI agents is crucial for debugging, ensuring safety, and building trust.  Developing techniques for explaining the internal workings of agentic AI systems is a critical research area.\n\n\n**Applications of Agentic AI:**\n\nThe potential applications of agentic AI are vast and transformative:\n\n* **Robotics:**  Agentic AI can enable the development of highly autonomous robots capable of performing complex tasks in unstructured environments, such as search and rescue operations, manufacturing, and exploration.\n\n* **Autonomous Vehicles:**  Self-driving cars represent a significant application of agentic AI, requiring the ability to navigate complex traffic situations, make real-time decisions, and adapt to unforeseen events.\n\n* **Personalized Healthcare:**  Agentic AI systems can personalize treatment plans, monitor patient health, and proactively intervene to prevent adverse events.\n\n* **Resource Management:**  Optimizing the use of resources, such as energy, water, and materials, requires sophisticated planning and decision-making capabilities that agentic AI can provide.\n\n* **Scientific Discovery:**  AI agents can be used to automate scientific experiments, analyze data, and formulate hypotheses, accelerating the pace of scientific discovery.\n\n\n**Conclusion:**\n\nAgentic AI represents a significant step towards creating truly intelligent machines.  While significant challenges remain, the potential benefits of agentic AI are immense.  However, responsible development is crucial.  Addressing the ethical and safety concerns associated with autonomous agents is paramount to ensuring that this powerful technology is used for the benefit of humanity.  The journey towards fully realized agentic AI is ongoing, but the progress made so far suggests a future where intelligent agents play a significant role in shaping our world.  Careful consideration of the societal implications and the development of robust safety and ethical guidelines will be essential to navigate this transformative technological frontier.\n"
          },
          "metadata": {},
          "execution_count": 6
        }
      ]
    }
  ]
}